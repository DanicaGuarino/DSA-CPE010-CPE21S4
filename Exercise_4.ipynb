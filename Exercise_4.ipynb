{
  "nbformat": 4,
  "nbformat_minor": 0,
  "metadata": {
    "colab": {
      "provenance": [],
      "authorship_tag": "ABX9TyO0354XhvcrbB27F8z/5H4w",
      "include_colab_link": true
    },
    "kernelspec": {
      "name": "python3",
      "display_name": "Python 3"
    },
    "language_info": {
      "name": "python"
    }
  },
  "cells": [
    {
      "cell_type": "markdown",
      "metadata": {
        "id": "view-in-github",
        "colab_type": "text"
      },
      "source": [
        "<a href=\"https://colab.research.google.com/github/DanicaGuarino/DSA-CPE010-CPE21S4/blob/main/Exercise_4.ipynb\" target=\"_parent\"><img src=\"https://colab.research.google.com/assets/colab-badge.svg\" alt=\"Open In Colab\"/></a>"
      ]
    },
    {
      "cell_type": "code",
      "execution_count": null,
      "metadata": {
        "colab": {
          "base_uri": "https://localhost:8080/",
          "height": 35
        },
        "id": "pDXhuWA0q2GA",
        "outputId": "e5aa9593-22ba-4ac2-9130-978e1edb85b6"
      },
      "outputs": [
        {
          "output_type": "execute_result",
          "data": {
            "text/plain": [
              "'f'"
            ],
            "application/vnd.google.colaboratory.intrinsic+json": {
              "type": "string"
            }
          },
          "metadata": {},
          "execution_count": 1
        }
      ],
      "source": [
        "import array\n",
        "\n",
        "array.typecodes\n",
        "a = array.array('i',[1,2,3,4,5,6])\n",
        "b = array.array('f',[1.5,2.5,3.5,4.5,5.5,6.5])\n",
        "\n",
        "a.typecode\n",
        "b.typecode\n"
      ]
    },
    {
      "cell_type": "code",
      "source": [
        "from array import array\n",
        "a=array('i',[4,5,6,7])\n",
        "a.insert(1,2)\n",
        "a\n",
        "array('i',[4,2,5,6,7])\n",
        "a.insert(-1,0)\n",
        "a\n",
        "a.insert(10,-1)\n",
        "a\n",
        "array('i',[4,2,5,6,0,7,-1])"
      ],
      "metadata": {
        "colab": {
          "base_uri": "https://localhost:8080/"
        },
        "id": "fshT4vylq-iP",
        "outputId": "73a1dacd-7f38-4a76-b775-31aab27e0e67"
      },
      "execution_count": null,
      "outputs": [
        {
          "output_type": "execute_result",
          "data": {
            "text/plain": [
              "array('i', [4, 2, 5, 6, 0, 7, -1])"
            ]
          },
          "metadata": {},
          "execution_count": 2
        }
      ]
    },
    {
      "cell_type": "code",
      "source": [
        "class Node:\n",
        "  def __init__(self, data):\n",
        "    self.data= data\n",
        "    self.next= None\n",
        "    self.prev= None\n",
        "\n",
        "class LinkedList:\n",
        "  def __init__(self):\n",
        "    self.head= None"
      ],
      "metadata": {
        "id": "7aMOUHtJrBCc"
      },
      "execution_count": null,
      "outputs": []
    },
    {
      "cell_type": "code",
      "source": [
        "class Node:\n",
        "\n",
        "  def __init__(self,data):\n",
        "    self.data=data\n",
        "    self.next=None\n",
        "\n",
        "class LinkedList:\n",
        "\n",
        "  def __init__(self):\n",
        "    self.head=None\n",
        "\n",
        "  def printdata(self):\n",
        "    temp = self.head\n",
        "    while(temp):\n",
        "      print(temp.data)\n",
        "      temp = temp.next\n",
        "\n",
        "if __name__=='__main__':\n",
        "\n",
        "  list = LinkedList()\n",
        "\n",
        "  list.head=Node(1)\n",
        "  second=Node(2)\n",
        "  third=Node(3)\n",
        "\n",
        "  list.head.next=second\n",
        "  second.next=third\n",
        "\n",
        "  list.printdata()"
      ],
      "metadata": {
        "colab": {
          "base_uri": "https://localhost:8080/"
        },
        "id": "nuGIsn6FrDUd",
        "outputId": "a485b171-2bc1-4cf1-9b16-28884cbfe8ad"
      },
      "execution_count": null,
      "outputs": [
        {
          "output_type": "stream",
          "name": "stdout",
          "text": [
            "1\n",
            "2\n",
            "3\n"
          ]
        }
      ]
    },
    {
      "cell_type": "code",
      "source": [
        "def printdata(self):\n",
        "  temp = self.head\n",
        "  while(temp):\n",
        "    print(temp.data)\n",
        "    temp = temp.next\n",
        "list.printdata()"
      ],
      "metadata": {
        "colab": {
          "base_uri": "https://localhost:8080/"
        },
        "id": "iQ9Bvu5grIOs",
        "outputId": "5b19e28d-723a-4971-81ed-1ff3c6afeada"
      },
      "execution_count": null,
      "outputs": [
        {
          "output_type": "stream",
          "name": "stdout",
          "text": [
            "1\n",
            "2\n",
            "3\n"
          ]
        }
      ]
    },
    {
      "cell_type": "code",
      "source": [
        "class Node:\n",
        "    def __init__(self, value):\n",
        "        self.value = value\n",
        "        self.next = None\n",
        "\n",
        "def main():\n",
        "    pass\n",
        "     Node* head ;\n",
        "     Node* one = NULL;\n",
        "     Node* two = NULL;\n",
        "     Node* three = NULL;\n",
        "\n",
        "    one = new Node();\n",
        "    two = new Node();\n",
        "    three = new Node();\n",
        "\n",
        "    one->value = 1;\n",
        "    two->value = 2;\n",
        "    three->value = 3;\n",
        "\n",
        "    one->next = two;\n",
        "    two->next = three;\n",
        "    three->next = NULL;\n",
        "\n",
        "    head = one;\n",
        "    while(head != NULL){\n",
        "        cout << head->value << endl;\n",
        "        head = head->next;\n",
        "    return 0"
      ],
      "metadata": {
        "id": "sSm26F97r69M"
      },
      "execution_count": null,
      "outputs": []
    }
  ]
}