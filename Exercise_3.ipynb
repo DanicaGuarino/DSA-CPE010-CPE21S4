{
  "nbformat": 4,
  "nbformat_minor": 0,
  "metadata": {
    "colab": {
      "provenance": [],
      "authorship_tag": "ABX9TyMw1QmXasuZ6Vfe3FSjsN/j",
      "include_colab_link": true
    },
    "kernelspec": {
      "name": "python3",
      "display_name": "Python 3"
    },
    "language_info": {
      "name": "python"
    }
  },
  "cells": [
    {
      "cell_type": "markdown",
      "metadata": {
        "id": "view-in-github",
        "colab_type": "text"
      },
      "source": [
        "<a href=\"https://colab.research.google.com/github/DanicaGuarino/DSA-CPE010-CPE21S4/blob/main/Exercise_3.ipynb\" target=\"_parent\"><img src=\"https://colab.research.google.com/assets/colab-badge.svg\" alt=\"Open In Colab\"/></a>"
      ]
    },
    {
      "cell_type": "code",
      "execution_count": 1,
      "metadata": {
        "colab": {
          "base_uri": "https://localhost:8080/"
        },
        "id": "9PV-FcpBDvMW",
        "outputId": "39eca651-b76c-4e30-9cf3-662496053acb"
      },
      "outputs": [
        {
          "output_type": "stream",
          "name": "stdout",
          "text": [
            "Area is 78.540\n"
          ]
        }
      ],
      "source": [
        "def AreaCircle(r):\n",
        "  pi = 3.1416\n",
        "  return pi*(r**2)\n",
        "\n",
        "print (\"Area is %.3f\" % AreaCircle(5))"
      ]
    },
    {
      "cell_type": "code",
      "source": [
        "def AreaCircle(d):\n",
        "  pi = 3.1416\n",
        "  return pi*(d/2)**2\n",
        "\n",
        "print (\"Area is %.3f\" % AreaCircle(5))"
      ],
      "metadata": {
        "colab": {
          "base_uri": "https://localhost:8080/"
        },
        "id": "E9xQoN-sD4hM",
        "outputId": "9d5cf72e-fb38-4e49-9b7f-5498fcb18fd5"
      },
      "execution_count": 2,
      "outputs": [
        {
          "output_type": "stream",
          "name": "stdout",
          "text": [
            "Area is 19.635\n"
          ]
        }
      ]
    },
    {
      "cell_type": "code",
      "source": [
        "animals = [\"cat\", \"dog\", \"fish\"]\n",
        "x = animals [0]\n",
        "print (x)"
      ],
      "metadata": {
        "colab": {
          "base_uri": "https://localhost:8080/"
        },
        "id": "LB98oauJEAyI",
        "outputId": "b6a851ab-38da-4fc0-e162-5015dbb17c6a"
      },
      "execution_count": 3,
      "outputs": [
        {
          "output_type": "stream",
          "name": "stdout",
          "text": [
            "cat\n"
          ]
        }
      ]
    },
    {
      "cell_type": "code",
      "source": [
        "animals = [\"cat\", \"dog\", \"fish\"]\n",
        "animals [0] = \"monkey\"\n",
        "print (animals)"
      ],
      "metadata": {
        "colab": {
          "base_uri": "https://localhost:8080/"
        },
        "id": "tdmz7Yw9EA_4",
        "outputId": "169d3805-a4cf-4f53-e974-87da468dd60e"
      },
      "execution_count": 4,
      "outputs": [
        {
          "output_type": "stream",
          "name": "stdout",
          "text": [
            "['monkey', 'dog', 'fish']\n"
          ]
        }
      ]
    },
    {
      "cell_type": "code",
      "source": [
        "animals = [\"monkey\",\"cat\", \"dog\", \"fish\"]\n",
        "x = (len(animals))\n",
        "print (x)"
      ],
      "metadata": {
        "colab": {
          "base_uri": "https://localhost:8080/"
        },
        "id": "PnsibZd6EBIG",
        "outputId": "c0f63926-5c66-4604-a04d-46006efd5f06"
      },
      "execution_count": 5,
      "outputs": [
        {
          "output_type": "stream",
          "name": "stdout",
          "text": [
            "4\n"
          ]
        }
      ]
    },
    {
      "cell_type": "code",
      "source": [
        "animals = [\"monkey\",\"cat\", \"dog\", \"fish\"]\n",
        "for x in animals:\n",
        "  print (x)"
      ],
      "metadata": {
        "colab": {
          "base_uri": "https://localhost:8080/"
        },
        "id": "pTX0cs0GEJBC",
        "outputId": "c9f7dacd-352c-43d0-c479-f26f3825202c"
      },
      "execution_count": 12,
      "outputs": [
        {
          "output_type": "stream",
          "name": "stdout",
          "text": [
            "monkey\n",
            "cat\n",
            "dog\n",
            "fish\n"
          ]
        }
      ]
    },
    {
      "cell_type": "code",
      "source": [
        "animals = [\"monkey\",\"cat\", \"dog\", \"fish\"]\n",
        "animals.append (\"bird\")\n",
        "print (animals)"
      ],
      "metadata": {
        "colab": {
          "base_uri": "https://localhost:8080/"
        },
        "id": "ZvYWduUSEJGd",
        "outputId": "1f1a8183-c04d-43ea-c8b1-1b988ecd1381"
      },
      "execution_count": 11,
      "outputs": [
        {
          "output_type": "stream",
          "name": "stdout",
          "text": [
            "['monkey', 'cat', 'dog', 'fish', 'bird']\n"
          ]
        }
      ]
    },
    {
      "cell_type": "code",
      "source": [
        "animals.reverse()\n",
        "print (animals)"
      ],
      "metadata": {
        "colab": {
          "base_uri": "https://localhost:8080/"
        },
        "id": "3dj1gVIUEJbA",
        "outputId": "8880b1bb-138c-4742-fbae-39c4dbb8e306"
      },
      "execution_count": 10,
      "outputs": [
        {
          "output_type": "stream",
          "name": "stdout",
          "text": [
            "['fish', 'dog', 'cat', 'monkey']\n"
          ]
        }
      ]
    },
    {
      "cell_type": "code",
      "source": [
        "animals.pop(1)\n",
        "print (animals)"
      ],
      "metadata": {
        "colab": {
          "base_uri": "https://localhost:8080/"
        },
        "id": "u228gwwRERxA",
        "outputId": "1d696bda-bf3f-42c7-e4c5-55f870865204"
      },
      "execution_count": 9,
      "outputs": [
        {
          "output_type": "stream",
          "name": "stdout",
          "text": [
            "['monkey', 'cat', 'dog', 'fish']\n"
          ]
        }
      ]
    },
    {
      "cell_type": "code",
      "source": [
        "#Inster an animal in a specific location using insert()\n",
        "animals = [\"monkey\",\"cat\", \"dog\", \"fish\"]\n",
        "animals.insert(1, \"bird\")\n",
        "print (animals)"
      ],
      "metadata": {
        "colab": {
          "base_uri": "https://localhost:8080/"
        },
        "id": "Etgu9Ds8ER2G",
        "outputId": "99cf4bee-72bf-4d0b-fc8c-d35e38a93cc2"
      },
      "execution_count": 8,
      "outputs": [
        {
          "output_type": "stream",
          "name": "stdout",
          "text": [
            "['monkey', 'bird', 'cat', 'dog', 'fish']\n"
          ]
        }
      ]
    },
    {
      "cell_type": "code",
      "source": [
        "#Remove the item in the specific index value using remove()\n",
        "animals = [\"monkey\",\"cat\", \"dog\", \"fish\"]\n",
        "animals.remove(\"dog\")\n",
        "print (animals)"
      ],
      "metadata": {
        "colab": {
          "base_uri": "https://localhost:8080/"
        },
        "id": "FR5pXXzDER9v",
        "outputId": "890e4cdb-822c-4ad0-bf9f-67b644890e3e"
      },
      "execution_count": 7,
      "outputs": [
        {
          "output_type": "stream",
          "name": "stdout",
          "text": [
            "['monkey', 'cat', 'fish']\n"
          ]
        }
      ]
    },
    {
      "cell_type": "code",
      "source": [
        "#Reverse all items in the list using reverse()\n",
        "animals = [\"monkey\",\"cat\", \"dog\", \"fish\"]\n",
        "animals.reverse()\n",
        "print (animals)"
      ],
      "metadata": {
        "colab": {
          "base_uri": "https://localhost:8080/"
        },
        "id": "m9iVOAzDEZaa",
        "outputId": "25443e6b-6134-4378-f289-111c50f33a0e"
      },
      "execution_count": 6,
      "outputs": [
        {
          "output_type": "stream",
          "name": "stdout",
          "text": [
            "['fish', 'dog', 'cat', 'monkey']\n"
          ]
        }
      ]
    }
  ]
}