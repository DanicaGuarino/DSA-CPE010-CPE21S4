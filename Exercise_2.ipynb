{
  "nbformat": 4,
  "nbformat_minor": 0,
  "metadata": {
    "colab": {
      "provenance": [],
      "authorship_tag": "ABX9TyO7Rcfn5P7g9zyVawMCXqOV",
      "include_colab_link": true
    },
    "kernelspec": {
      "name": "python3",
      "display_name": "Python 3"
    },
    "language_info": {
      "name": "python"
    }
  },
  "cells": [
    {
      "cell_type": "markdown",
      "metadata": {
        "id": "view-in-github",
        "colab_type": "text"
      },
      "source": [
        "<a href=\"https://colab.research.google.com/github/DanicaGuarino/DSA-CPE010-CPE21S4/blob/main/Exercise_2.ipynb\" target=\"_parent\"><img src=\"https://colab.research.google.com/assets/colab-badge.svg\" alt=\"Open In Colab\"/></a>"
      ]
    },
    {
      "cell_type": "markdown",
      "source": [
        "#**Exercise 2**"
      ],
      "metadata": {
        "id": "C86RkYG75LBB"
      }
    },
    {
      "cell_type": "code",
      "execution_count": 13,
      "metadata": {
        "colab": {
          "base_uri": "https://localhost:8080/"
        },
        "id": "JOYHdKcisWtw",
        "outputId": "a6c610da-4a53-46c0-f220-d69122717757"
      },
      "outputs": [
        {
          "output_type": "stream",
          "name": "stdout",
          "text": [
            "50\n",
            "25\n",
            "20.0\n"
          ]
        }
      ],
      "source": [
        "class Shapes():\n",
        "    def __init__(self,length=0,width=0,side=0,base=0,height=0):\n",
        "      self.length = length\n",
        "      self.width = width\n",
        "      self.side = side\n",
        "      self.base = base\n",
        "      self.height = height\n",
        "\n",
        "\n",
        "class Rectangle(Shapes):\n",
        "\n",
        "  def __init__(self,length,width):\n",
        "    self.length = length\n",
        "    self.width = width\n",
        "\n",
        "  def Area_Rectangle(self):\n",
        "   return self.length * self.width\n",
        "\n",
        "\n",
        "class Square(Shapes):\n",
        "  def __init__(self,side):\n",
        "    self.side = side\n",
        "\n",
        "\n",
        "  def Area_Square(self):\n",
        "    return self.side ** 2\n",
        "\n",
        "class Triangle(Shapes):\n",
        "  def __init__(self,base,height):\n",
        "    self.base = base\n",
        "    self.height = height\n",
        "\n",
        "  def Area_Triangle(self):\n",
        "    return (self.base * self.height)/2\n",
        "\n",
        "\n",
        "rectangle = Rectangle(length=5,width=10)\n",
        "print(rectangle.Area_Rectangle())\n",
        "\n",
        "square = Square(side=5)\n",
        "print(square.Area_Square())\n",
        "\n",
        "triangle = Triangle(base=4,height=10)\n",
        "print(triangle.Area_Triangle())\n",
        "\n"
      ]
    }
  ]
}