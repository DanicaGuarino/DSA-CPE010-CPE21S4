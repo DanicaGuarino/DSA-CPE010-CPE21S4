{
  "nbformat": 4,
  "nbformat_minor": 0,
  "metadata": {
    "colab": {
      "provenance": [],
      "authorship_tag": "ABX9TyOGC+sHvAN+wo0YX1ReOtYG",
      "include_colab_link": true
    },
    "kernelspec": {
      "name": "python3",
      "display_name": "Python 3"
    },
    "language_info": {
      "name": "python"
    }
  },
  "cells": [
    {
      "cell_type": "markdown",
      "metadata": {
        "id": "view-in-github",
        "colab_type": "text"
      },
      "source": [
        "<a href=\"https://colab.research.google.com/github/DanicaGuarino/DSA-CPE010-CPE21S4/blob/main/DSA%20Exercise_1.ipynb\" target=\"_parent\"><img src=\"https://colab.research.google.com/assets/colab-badge.svg\" alt=\"Open In Colab\"/></a>"
      ]
    },
    {
      "cell_type": "markdown",
      "source": [
        "#**Exercise 1 (Class Constructor and Method)**\n",
        "\n",
        "\n",
        "1. Develop a Python program that computes the area of a Rectangle shape.\n",
        "2. Use Rectangle () as a class name.\n",
        "3. Use attributes length and width.\n",
        "4. Calculate the Area () of the rectangle.\n",
        "5. Display the computed area of a rectangle."
      ],
      "metadata": {
        "id": "hT4SeLhNo1oc"
      }
    },
    {
      "cell_type": "code",
      "execution_count": 4,
      "metadata": {
        "id": "iiYAU5_Qmqwx",
        "colab": {
          "base_uri": "https://localhost:8080/"
        },
        "outputId": "67e51cc8-1008-4ac3-ae62-3e255f806e18"
      },
      "outputs": [
        {
          "output_type": "stream",
          "name": "stdout",
          "text": [
            "Enter the length of the rectangle: 70\n",
            "Enter the width of the rectangle: 4\n",
            "The area of the rectangle is: 280.0\n"
          ]
        }
      ],
      "source": [
        "def calculate_rectangle_area(length, width):\n",
        "\n",
        "    area = length * width\n",
        "    return area\n",
        "\n",
        "length = float(input(\"Enter the length of the rectangle: \"))\n",
        "width = float(input(\"Enter the width of the rectangle: \"))\n",
        "\n",
        "area = calculate_rectangle_area(length, width)\n",
        "\n",
        "print(\"The area of the rectangle is:\", area)"
      ]
    }
  ]
}