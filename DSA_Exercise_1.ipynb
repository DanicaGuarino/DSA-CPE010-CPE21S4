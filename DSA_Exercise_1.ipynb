{
  "nbformat": 4,
  "nbformat_minor": 0,
  "metadata": {
    "colab": {
      "provenance": [],
      "authorship_tag": "ABX9TyPPUmEnwQRd4gKNyOh1u73T",
      "include_colab_link": true
    },
    "kernelspec": {
      "name": "python3",
      "display_name": "Python 3"
    },
    "language_info": {
      "name": "python"
    }
  },
  "cells": [
    {
      "cell_type": "markdown",
      "metadata": {
        "id": "view-in-github",
        "colab_type": "text"
      },
      "source": [
        "<a href=\"https://colab.research.google.com/github/DanicaGuarino/DSA-CPE010-CPE21S4/blob/main/DSA_Exercise_1.ipynb\" target=\"_parent\"><img src=\"https://colab.research.google.com/assets/colab-badge.svg\" alt=\"Open In Colab\"/></a>"
      ]
    },
    {
      "cell_type": "markdown",
      "source": [
        "#**Exercise 1 (Class Constructor and Method)**\n",
        "\n",
        "\n",
        "1. Develop a Python program that computes the area of a Rectangle shape.\n",
        "2. Use Rectangle () as a class name.\n",
        "3. Use attributes length and width.\n",
        "4. Calculate the Area () of the rectangle.\n",
        "5. Display the computed area of a rectangle."
      ],
      "metadata": {
        "id": "hT4SeLhNo1oc"
      }
    },
    {
      "cell_type": "code",
      "execution_count": 1,
      "metadata": {
        "id": "iiYAU5_Qmqwx",
        "colab": {
          "base_uri": "https://localhost:8080/"
        },
        "outputId": "f28271dc-d699-4e3d-925f-4636943becff"
      },
      "outputs": [
        {
          "output_type": "stream",
          "name": "stdout",
          "text": [
            "Enter length of the rectangle: 5\n",
            "Enter width of the rectangle: 10\n",
            "Area of the rectangle is: 50.0\n"
          ]
        }
      ],
      "source": [
        "class Rectangle:\n",
        "    def __init__(self, length, width):\n",
        "        self.length = length\n",
        "        self.width = width\n",
        "\n",
        "    def calculate_area(self):\n",
        "        return self.length * self.width\n",
        "\n",
        "def rectangle_area():\n",
        "\n",
        "    length = float(input(\"Enter length of the rectangle: \"))\n",
        "    width = float(input(\"Enter width of the rectangle: \"))\n",
        "\n",
        "    return length * width\n",
        "\n",
        "area = rectangle_area()\n",
        "print(\"Area of the rectangle is:\", area)"
      ]
    }
  ]
}